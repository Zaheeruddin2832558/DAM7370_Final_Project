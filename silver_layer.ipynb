{
 "cells": [
  {
   "cell_type": "markdown",
   "metadata": {
    "application/vnd.databricks.v1+cell": {
     "cellMetadata": {},
     "inputWidgets": {},
     "nuid": "aec94541-8ffd-486e-8587-2478ec03859c",
     "showTitle": false,
     "tableResultSettingsMap": {},
     "title": ""
    }
   },
   "source": [
    "### SILVER LAYER SCRIPT"
   ]
  },
  {
   "cell_type": "markdown",
   "metadata": {},
   "source": [
    "# Silver Layer Transformation – Credit Risk Dataset\n",
    "\n",
    "This notebook mounts the bronze and silver containers, loads raw CSV,\n",
    "cleans missing values, and saves the cleaned data in the Silver zone as Parquet.\n"
   ]
  },
  {
   "cell_type": "markdown",
   "metadata": {
    "application/vnd.databricks.v1+cell": {
     "cellMetadata": {},
     "inputWidgets": {},
     "nuid": "0b900c93-5119-4db9-baf1-fb365906e115",
     "showTitle": false,
     "tableResultSettingsMap": {},
     "title": ""
    }
   },
   "source": [
    "### DATA LOADING"
   ]
  },
  {
   "cell_type": "code",
   "execution_count": null,
   "metadata": {},
   "outputs": [],
   "source": [
    "from pyspark.sql.functions import col\n"
   ]
  },
  {
   "cell_type": "code",
   "execution_count": null,
   "metadata": {},
   "outputs": [
    {
     "ename": "NameError",
     "evalue": "name 'dbutils' is not defined",
     "output_type": "error",
     "traceback": [
      "\u001b[0;31m---------------------------------------------------------------------------\u001b[0m",
      "\u001b[0;31mNameError\u001b[0m                                 Traceback (most recent call last)",
      "Cell \u001b[0;32mIn[1], line 11\u001b[0m\n\u001b[1;32m      8\u001b[0m \u001b[38;5;28;01mexcept\u001b[39;00m:\n\u001b[1;32m      9\u001b[0m     \u001b[38;5;28;01mpass\u001b[39;00m\n\u001b[0;32m---> 11\u001b[0m \u001b[43mdbutils\u001b[49m\u001b[38;5;241m.\u001b[39mfs\u001b[38;5;241m.\u001b[39mmount(\n\u001b[1;32m     12\u001b[0m     source\u001b[38;5;241m=\u001b[39m\u001b[38;5;124mf\u001b[39m\u001b[38;5;124m\"\u001b[39m\u001b[38;5;124mwasbs://\u001b[39m\u001b[38;5;132;01m{\u001b[39;00mbronze_container\u001b[38;5;132;01m}\u001b[39;00m\u001b[38;5;124m@\u001b[39m\u001b[38;5;132;01m{\u001b[39;00mstorage_account_name\u001b[38;5;132;01m}\u001b[39;00m\u001b[38;5;124m.blob.core.windows.net\u001b[39m\u001b[38;5;124m\"\u001b[39m,\n\u001b[1;32m     13\u001b[0m     mount_point\u001b[38;5;241m=\u001b[39m\u001b[38;5;124mf\u001b[39m\u001b[38;5;124m\"\u001b[39m\u001b[38;5;124m/mnt/\u001b[39m\u001b[38;5;132;01m{\u001b[39;00mbronze_container\u001b[38;5;132;01m}\u001b[39;00m\u001b[38;5;124m\"\u001b[39m,\n\u001b[1;32m     14\u001b[0m     extra_configs\u001b[38;5;241m=\u001b[39m{\n\u001b[1;32m     15\u001b[0m         \u001b[38;5;124mf\u001b[39m\u001b[38;5;124m\"\u001b[39m\u001b[38;5;124mfs.azure.sas.\u001b[39m\u001b[38;5;132;01m{\u001b[39;00mbronze_container\u001b[38;5;132;01m}\u001b[39;00m\u001b[38;5;124m.\u001b[39m\u001b[38;5;132;01m{\u001b[39;00mstorage_account_name\u001b[38;5;132;01m}\u001b[39;00m\u001b[38;5;124m.blob.core.windows.net\u001b[39m\u001b[38;5;124m\"\u001b[39m: bronze_sas_token\n\u001b[1;32m     16\u001b[0m     }\n\u001b[1;32m     17\u001b[0m )\n",
      "\u001b[0;31mNameError\u001b[0m: name 'dbutils' is not defined"
     ]
    }
   ],
   "source": [
    "storage_account_name = \"creditriskdataset\"\n",
    "bronze_container = \"bronze\"\n",
    "bronze_sas_token = \"<your_bronze_sas_token>\"\n",
    "\n",
    "# Unmount if already exists\n",
    "try:\n",
    "    dbutils.fs.unmount(f\"/mnt/{bronze_container}\")\n",
    "except:\n",
    "    pass\n",
    "\n",
    "# Mount the bronze container\n",
    "dbutils.fs.mount(\n",
    "    source=f\"wasbs://{bronze_container}@{storage_account_name}.blob.core.windows.net\",\n",
    "    mount_point=f\"/mnt/{bronze_container}\",\n",
    "    extra_configs={\n",
    "        f\"fs.azure.sas.{bronze_container}.{storage_account_name}.blob.core.windows.net\": bronze_sas_token\n",
    "    }\n",
    ")\n",
    "\n"
   ]
  },
  {
   "cell_type": "code",
   "execution_count": null,
   "metadata": {},
   "outputs": [],
   "source": [
    "df = spark.read.csv(\n",
    "    \"/mnt/bronze/credit-risk/credit_risk_dataset.csv\",\n",
    "    header=True,\n",
    "    inferSchema=True\n",
    ")\n",
    "display(df)\n",
    "\n",
    "\n"
   ]
  },
  {
   "cell_type": "code",
   "execution_count": null,
   "metadata": {},
   "outputs": [],
   "source": [
    "from pyspark.sql.functions import col\n",
    "\n",
    "# Drop rows with missing values in important columns\n",
    "df_cleaned = df.dropna(subset=[\"person_emp_length\", \"loan_int_rate\"])\n",
    "\n",
    "# Cast target column to integer if needed\n",
    "df_cleaned = df_cleaned.withColumn(\"loan_status\", col(\"loan_status\").cast(\"int\"))\n",
    "\n",
    "display(df_cleaned)\n",
    "\n"
   ]
  },
  {
   "cell_type": "code",
   "execution_count": null,
   "metadata": {},
   "outputs": [],
   "source": [
    "silver_container = \"silver\"\n",
    "silver_sas_token = \"<your_silver_sas_token>\"\n",
    "\n",
    "# Unmount if already exists\n",
    "try:\n",
    "    dbutils.fs.unmount(f\"/mnt/{silver_container}\")\n",
    "except:\n",
    "    pass\n",
    "\n",
    "# Mount the silver container\n",
    "dbutils.fs.mount(\n",
    "    source=f\"wasbs://{silver_container}@{storage_account_name}.blob.core.windows.net\",\n",
    "    mount_point=f\"/mnt/{silver_container}\",\n",
    "    extra_configs={\n",
    "        f\"fs.azure.sas.{silver_container}.{storage_account_name}.blob.core.windows.net\": silver_sas_token\n",
    "    }\n",
    ")\n"
   ]
  },
  {
   "cell_type": "code",
   "execution_count": null,
   "metadata": {},
   "outputs": [],
   "source": [
    "df_cleaned.write.mode(\"overwrite\").parquet(\"/mnt/silver/credit_risk_cleaned\")\n"
   ]
  }
 ],
 "metadata": {
  "application/vnd.databricks.v1+notebook": {
   "computePreferences": null,
   "dashboards": [],
   "environmentMetadata": {
    "base_environment": "",
    "environment_version": "2"
   },
   "language": "python",
   "notebookMetadata": {
    "pythonIndentUnit": 4
   },
   "notebookName": "silver_layer",
   "widgets": {}
  },
  "kernelspec": {
   "display_name": "info6105",
   "language": "python",
   "name": "python3"
  },
  "language_info": {
   "codemirror_mode": {
    "name": "ipython",
    "version": 3
   },
   "file_extension": ".py",
   "mimetype": "text/x-python",
   "name": "python",
   "nbconvert_exporter": "python",
   "pygments_lexer": "ipython3",
   "version": "3.8.19"
  }
 },
 "nbformat": 4,
 "nbformat_minor": 0
}
